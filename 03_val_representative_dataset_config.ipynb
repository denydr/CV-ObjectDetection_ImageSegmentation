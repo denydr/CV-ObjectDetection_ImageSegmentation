{
 "cells": [
  {
   "cell_type": "code",
   "execution_count": 1,
   "id": "cbbdee54-b814-44d6-a485-04ef130afc84",
   "metadata": {},
   "outputs": [
    {
     "name": "stdout",
     "output_type": "stream",
     "text": [
      "Sequences from val.txt: ['bike-packing', 'blackswan', 'bmx-trees', 'breakdance', 'camel', 'car-roundabout', 'car-shadow', 'cows', 'dance-twirl', 'dog', 'dogs-jump', 'drift-chicane', 'drift-straight', 'goat', 'gold-fish', 'horsejump-high', 'india', 'judo', 'kite-surf', 'lab-coat', 'libby', 'loading', 'mbike-trick', 'motocross-jump', 'paragliding-launch', 'parkour', 'pigs', 'scooter-black', 'shooting', 'soapbox']\n",
      "Filtered multi-object JSON saved to: /Users/dd/PycharmProjects/CV-ObjectDetection_ImageSegmentation/output/val_multi_object_boundingboxes_labels.json\n",
      "Filtered single-object JSON saved to: /Users/dd/PycharmProjects/CV-ObjectDetection_ImageSegmentation/output/val_single_object_boundingboxes_labels.json\n"
     ]
    }
   ],
   "source": [
    "import json\n",
    "from pathlib import Path\n",
    "\n",
    "# Paths to input files\n",
    "val_txt_path = Path(\"datasets/DAVIS_dataset/ImageSets/2017/val.txt\")\n",
    "multi_obj_json_path = Path(\"output/multi_object_boundingboxes_labels.json\")\n",
    "single_obj_json_path = Path(\"output/single_object_boundingboxes_labels.json\")\n",
    "\n",
    "# Paths to output JSON files\n",
    "val_multi_obj_json_path = Path(\"output/val_multi_object_boundingboxes_labels.json\")\n",
    "val_single_obj_json_path = Path(\"output/val_single_object_boundingboxes_labels.json\")\n",
    "\n",
    "# Read the sequence names from val.txt\n",
    "with open(val_txt_path, \"r\") as f:\n",
    "    sequences = [line.strip() for line in f if line.strip()]\n",
    "\n",
    "print(\"Sequences from val.txt:\", sequences)\n",
    "\n",
    "# Load the original JSON files\n",
    "with open(multi_obj_json_path, \"r\") as f:\n",
    "    multi_obj_data = json.load(f)\n",
    "with open(single_obj_json_path, \"r\") as f:\n",
    "    single_obj_data = json.load(f)\n",
    "\n",
    "# Filter the multi-object annotations for sequences listed in val.txt\n",
    "filtered_multi_obj = {seq: multi_obj_data[seq] for seq in sequences if seq in multi_obj_data}\n",
    "# Filter the single-object annotations for sequences listed in val.txt\n",
    "filtered_single_obj = {seq: single_obj_data[seq] for seq in sequences if seq in single_obj_data}\n",
    "\n",
    "# Save the filtered data to new JSON files\n",
    "with open(val_multi_obj_json_path, \"w\") as f:\n",
    "    json.dump(filtered_multi_obj, f, indent=2)\n",
    "with open(val_single_obj_json_path, \"w\") as f:\n",
    "    json.dump(filtered_single_obj, f, indent=2)\n",
    "\n",
    "print(\"Filtered multi-object JSON saved to:\", val_multi_obj_json_path.resolve())\n",
    "print(\"Filtered single-object JSON saved to:\", val_single_obj_json_path.resolve())"
   ]
  },
  {
   "cell_type": "code",
   "execution_count": 6,
   "id": "06b2e850-d73e-47ae-9d76-2a4774488221",
   "metadata": {},
   "outputs": [
    {
     "name": "stdout",
     "output_type": "stream",
     "text": [
      "Combined sequences: ['scooter-gray', 'loading', 'camel', 'boat', 'bus', 'upside-down', 'soccerball', 'color-run', 'swing', 'varanus-cage', 'flamingo', 'car-shadow', 'mallard-water', 'dancing', 'goat', 'bike-packing', 'dance-twirl', 'paragliding', 'koala', 'dog-gooses', 'tuk-tuk', 'bmx-trees', 'boxing-fisheye', 'kid-football', 'dance-jump', 'dog', 'crossing', 'longboard', 'lady-running', 'miami-surf', 'dogs-scale', 'surf', 'mallard-fly', 'drift-chicane', 'dog-agility', 'cows', 'car-turn', 'night-race', 'scooter-board', 'drift-turn', 'stroller', 'rhino', 'scooter-black', 'hockey', 'shooting', 'motocross-bumps', 'snowboard', 'parkour', 'motocross-jump', 'horsejump-high', 'judo', 'drift-straight', 'lab-coat', 'gold-fish', 'lindy-hop', 'dogs-jump', 'train', 'planes-water', 'breakdance', 'rallye', 'tennis', 'blackswan', 'motorbike', 'sheep', 'stunt', 'india', 'kite-surf', 'classic-car', 'elephant', 'horsejump-low', 'rollerblade', 'lucia', 'hike', 'walking', 'mbike-trick', 'cat-girl', 'soapbox', 'disc-jockey', 'bmx-bumps', 'paragliding-launch', 'drone', 'tractor-sand', 'libby', 'breakdance-flare', 'schoolgirls', 'kite-walk', 'bear', 'skate-park', 'car-roundabout', 'pigs']\n",
      "Available sequences in multi-object JSON: ['horsejump-high', 'scooter-gray', 'judo', 'crossing', 'loading', 'longboard', 'upside-down', 'walking', 'lady-running', 'mbike-trick', 'cat-girl', 'lab-coat', 'soapbox', 'color-run', 'miami-surf', 'swing', 'dogs-scale', 'disc-jockey', 'bmx-bumps', 'surf', 'paragliding-launch', 'drone', 'dancing', 'gold-fish', 'bike-packing', 'tractor-sand', 'paragliding', 'dog-gooses', 'lindy-hop', 'dogs-jump', 'night-race', 'scooter-board', 'tuk-tuk', 'bmx-trees', 'schoolgirls', 'train', 'planes-water', 'stroller', 'kite-walk', 'scooter-black', 'boxing-fisheye', 'tennis', 'hockey', 'shooting', 'skate-park', 'motorbike', 'sheep', 'motocross-bumps', 'snowboard', 'pigs', 'stunt', 'india', 'motocross-jump', 'kite-surf', 'classic-car', 'horsejump-low', 'kid-football']\n",
      "Available sequences in single-object JSON: ['dance-jump', 'rollerblade', 'dog', 'camel', 'lucia', 'hike', 'boat', 'drift-straight', 'bus', 'soccerball', 'varanus-cage', 'flamingo', 'car-shadow', 'mallard-water', 'goat', 'drift-chicane', 'mallard-fly', 'dance-twirl', 'dog-agility', 'koala', 'cows', 'libby', 'car-turn', 'breakdance-flare', 'drift-turn', 'rhino', 'breakdance', 'rallye', 'bear', 'blackswan', 'car-roundabout', 'parkour', 'elephant']\n",
      "Saved filtered multi-object JSON to: /Users/dd/PycharmProjects/CV-ObjectDetection_ImageSegmentation/output/random_multi_object_boundingboxes_labels.json\n",
      "Saved filtered single-object JSON to: /Users/dd/PycharmProjects/CV-ObjectDetection_ImageSegmentation/output/random_single_object_boundingboxes_labels.json\n"
     ]
    }
   ],
   "source": [
    "import json\n",
    "import random\n",
    "from pathlib import Path\n",
    "\n",
    "# Paths to the text files listing sequence names.\n",
    "train_txt_path = Path(\"datasets/DAVIS_dataset/ImageSets/2017/train.txt\")\n",
    "val_txt_path = Path(\"datasets/DAVIS_dataset/ImageSets/2017/val.txt\")\n",
    "\n",
    "# Paths to the original JSON files.\n",
    "multi_obj_json_path = Path(\"output/multi_object_boundingboxes_labels.json\")\n",
    "single_obj_json_path = Path(\"output/single_object_boundingboxes_labels.json\")\n",
    "\n",
    "# Output JSON paths.\n",
    "out_multi_obj_json_path = Path(\"output/random_multi_object_boundingboxes_labels.json\")\n",
    "out_single_obj_json_path = Path(\"output/random_single_object_boundingboxes_labels.json\")\n",
    "\n",
    "# Read sequences from train.txt and val.txt\n",
    "def read_sequences(txt_path):\n",
    "    with open(txt_path, \"r\") as f:\n",
    "        return [line.strip() for line in f if line.strip()]\n",
    "\n",
    "train_sequences = read_sequences(train_txt_path)\n",
    "val_sequences = read_sequences(val_txt_path)\n",
    "\n",
    "# Combine both lists (removing duplicates)\n",
    "combined_sequences = list(set(train_sequences + val_sequences))\n",
    "print(\"Combined sequences:\", combined_sequences)\n",
    "\n",
    "# Load the original JSON files.\n",
    "with open(multi_obj_json_path, \"r\") as f:\n",
    "    multi_obj_data = json.load(f)\n",
    "with open(single_obj_json_path, \"r\") as f:\n",
    "    single_obj_data = json.load(f)\n",
    "\n",
    "# For each JSON file, filter keys that are present in the combined list.\n",
    "def filter_json_data(data, sequences):\n",
    "    # Intersect keys in data with the provided sequences.\n",
    "    available_keys = set(data.keys())\n",
    "    valid_keys = list(available_keys.intersection(sequences))\n",
    "    return {key: data[key] for key in valid_keys}\n",
    "\n",
    "filtered_multi_obj = filter_json_data(multi_obj_data, combined_sequences)\n",
    "filtered_single_obj = filter_json_data(single_obj_data, combined_sequences)\n",
    "\n",
    "# Check available sequences after filtering.\n",
    "print(\"Available sequences in multi-object JSON:\", list(filtered_multi_obj.keys()))\n",
    "print(\"Available sequences in single-object JSON:\", list(filtered_single_obj.keys()))\n",
    "\n",
    "# Randomly select 15 sequences from each.\n",
    "if len(filtered_multi_obj) < 15:\n",
    "    raise ValueError(\"Not enough sequences in the multi-object JSON to sample 15 sequences.\")\n",
    "if len(filtered_single_obj) < 15:\n",
    "    raise ValueError(\"Not enough sequences in the single-object JSON to sample 15 sequences.\")\n",
    "\n",
    "selected_multi_keys = random.sample(list(filtered_multi_obj.keys()), 15)\n",
    "selected_single_keys = random.sample(list(filtered_single_obj.keys()), 15)\n",
    "\n",
    "selected_multi_obj = {key: filtered_multi_obj[key] for key in selected_multi_keys}\n",
    "selected_single_obj = {key: filtered_single_obj[key] for key in selected_single_keys}\n",
    "\n",
    "# Save the filtered and randomly selected JSON files.\n",
    "with open(out_multi_obj_json_path, \"w\") as f:\n",
    "    json.dump(selected_multi_obj, f, indent=2)\n",
    "with open(out_single_obj_json_path, \"w\") as f:\n",
    "    json.dump(selected_single_obj, f, indent=2)\n",
    "\n",
    "print(\"Saved filtered multi-object JSON to:\", out_multi_obj_json_path.resolve())\n",
    "print(\"Saved filtered single-object JSON to:\", out_single_obj_json_path.resolve())"
   ]
  },
  {
   "cell_type": "code",
   "execution_count": null,
   "id": "e284cf5c-9092-4389-99ce-68171e62b255",
   "metadata": {},
   "outputs": [],
   "source": []
  }
 ],
 "metadata": {
  "kernelspec": {
   "display_name": "Python 3 (ipykernel)",
   "language": "python",
   "name": "python3"
  },
  "language_info": {
   "codemirror_mode": {
    "name": "ipython",
    "version": 3
   },
   "file_extension": ".py",
   "mimetype": "text/x-python",
   "name": "python",
   "nbconvert_exporter": "python",
   "pygments_lexer": "ipython3",
   "version": "3.12.0"
  }
 },
 "nbformat": 4,
 "nbformat_minor": 5
}
